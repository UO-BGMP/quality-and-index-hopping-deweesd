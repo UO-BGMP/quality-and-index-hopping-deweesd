{
 "cells": [
  {
   "cell_type": "code",
   "execution_count": null,
   "metadata": {
    "collapsed": true
   },
   "outputs": [],
   "source": [
    "#!usr/bin/env python\n",
    "\n",
    "import argparse\n",
    "\n",
    "parser = argparse.ArgumentParser(description=\"Quality Index Swapping\")\n",
    "parser.add_argument(\"-f1\", \"--filepath1\", help=\"R1 file\", required=True, type=str)\n",
    "parser.add_argument(\"-f2\", \"--filepath2\", help=\"R2 file\", required=True, type=str)\n",
    "parser.add_argument(\"-f3\", \"--filepath3\", help=\"R3 file\", required=True, type=str)\n",
    "parser.add_argument(\"-f4\", \"--filepath4\", help=\"R4 file\", required=True, type=str)\n",
    "\n",
    "args = parser.parse_args() #sets arguments as call-able \n",
    "\n",
    "f1 = args.filepath1\n",
    "f2 = args.filepath2\n",
    "f3 = args.filepath3\n",
    "f4 = args.filepath4\n",
    "\n",
    "\n",
    "def convert_phred(character):\n",
    "    n = ord(char) - 33\n",
    "    return n\n",
    "\n",
    "#setting function for frequency of qscores\n",
    "def read_frequency_data(file, index, n):\n",
    "    q_score_dict = {}\n",
    "    #if index is true, factor in len of file (either 8 or 101)\n",
    "    if index == True:\n",
    "        base_pair_len = 8\n",
    "    else:\n",
    "        base_pair_len = 101\n",
    "\n",
    "    # adding up each of the quality scores\n",
    "    with open(file) as fh:\n",
    "        i = 0  # line counter\n",
    "        for line in fh:\n",
    "            i += 1\n",
    "            line = line.strip(\"\\n\")\n",
    "            if i % 4 == 0:  # picks out only quality score lines\n",
    "                sum_1 = 0\n",
    "                for char in line:\n",
    "                    sum1 += ord(character) - 33\n",
    "                mean = int(sum_1 / base_pair_len)\n",
    "                if mean in q_score_dict:\n",
    "                    q_score_dict[mean] += 1\n",
    "                else:\n",
    "                    q_score_dict[mean] = 1\n",
    "    with open(\"R\" + str(n) + \"_P2_Plot.tsv\", \"w\") as output:\n",
    "        for key in phredscore_dict:\n",
    "            output.write(str(key) + \"\\t\" + str(phredscore_dict[key])+\"\\n\")\n",
    "\n",
    "RD1_frequency(f1, False,1)\n",
    "RD2_frequency(f2, True,2)\n",
    "RD3_frequency(f3, True,3)\n",
    "RD4_frequency(f4, False,4)"
   ]
  }
 ],
 "metadata": {
  "kernelspec": {
   "display_name": "Python 3",
   "language": "python",
   "name": "python3"
  },
  "language_info": {
   "codemirror_mode": {
    "name": "ipython",
    "version": 3
   },
   "file_extension": ".py",
   "mimetype": "text/x-python",
   "name": "python",
   "nbconvert_exporter": "python",
   "pygments_lexer": "ipython3",
   "version": "3.6.1"
  }
 },
 "nbformat": 4,
 "nbformat_minor": 2
}
